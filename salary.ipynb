{
 "cells": [
  {
   "cell_type": "code",
   "execution_count": 6,
   "metadata": {},
   "outputs": [
    {
     "name": "stdout",
     "output_type": "stream",
     "text": [
      "     Unnamed: 0      rank discipline  yrs.since.phd  yrs.service   sex  salary\n",
      "0             1      Prof          B             19           18  Male  139750\n",
      "1             2      Prof          B             20           16  Male  173200\n",
      "2             3  AsstProf          B              4            3  Male   79750\n",
      "3             4      Prof          B             45           39  Male  115000\n",
      "4             5      Prof          B             40           41  Male  141500\n",
      "..          ...       ...        ...            ...          ...   ...     ...\n",
      "392         393      Prof          A             33           30  Male  103106\n",
      "393         394      Prof          A             31           19  Male  150564\n",
      "394         395      Prof          A             42           25  Male  101738\n",
      "395         396      Prof          A             25           15  Male   95329\n",
      "396         397  AsstProf          A              8            4  Male   81035\n",
      "\n",
      "[397 rows x 7 columns]\n"
     ]
    }
   ],
   "source": [
    "import numpy as np\n",
    "import pandas as pd\n",
    "\n",
    "df = pd.read_csv(\"/mnt/d/storage2/Salaries.csv\")\n",
    "print(df)"
   ]
  },
  {
   "cell_type": "code",
   "execution_count": null,
   "metadata": {},
   "outputs": [],
   "source": []
  },
  {
   "cell_type": "code",
   "execution_count": 9,
   "metadata": {},
   "outputs": [
    {
     "name": "stdout",
     "output_type": "stream",
     "text": [
      "2779\n"
     ]
    }
   ],
   "source": [
    "print(df.size)"
   ]
  },
  {
   "cell_type": "code",
   "execution_count": 10,
   "metadata": {},
   "outputs": [
    {
     "name": "stdout",
     "output_type": "stream",
     "text": [
      "<bound method NDFrame.head of      Unnamed: 0      rank discipline  yrs.since.phd  yrs.service   sex  salary\n",
      "0             1      Prof          B             19           18  Male  139750\n",
      "1             2      Prof          B             20           16  Male  173200\n",
      "2             3  AsstProf          B              4            3  Male   79750\n",
      "3             4      Prof          B             45           39  Male  115000\n",
      "4             5      Prof          B             40           41  Male  141500\n",
      "..          ...       ...        ...            ...          ...   ...     ...\n",
      "392         393      Prof          A             33           30  Male  103106\n",
      "393         394      Prof          A             31           19  Male  150564\n",
      "394         395      Prof          A             42           25  Male  101738\n",
      "395         396      Prof          A             25           15  Male   95329\n",
      "396         397  AsstProf          A              8            4  Male   81035\n",
      "\n",
      "[397 rows x 7 columns]>\n"
     ]
    }
   ],
   "source": [
    "print(df.head)"
   ]
  },
  {
   "cell_type": "code",
   "execution_count": null,
   "metadata": {},
   "outputs": [],
   "source": []
  },
  {
   "cell_type": "code",
   "execution_count": 30,
   "metadata": {},
   "outputs": [
    {
     "data": {
      "text/plain": [
       "397"
      ]
     },
     "execution_count": 30,
     "metadata": {},
     "output_type": "execute_result"
    }
   ],
   "source": [
    "# df['salary'].describe()\n",
    "df['salary'].count()"
   ]
  },
  {
   "cell_type": "code",
   "execution_count": 17,
   "metadata": {},
   "outputs": [
    {
     "data": {
      "text/plain": [
       "array([33.33333333, 31.91489362, 30.90909091, 20.3125    ])"
      ]
     },
     "execution_count": 17,
     "metadata": {},
     "output_type": "execute_result"
    }
   ],
   "source": [
    "distance = [10,15,17,26]\n",
    "time= [0.3,0.47,0.55,1.28]\n",
    "import numpy as np\n",
    "npdistance = np.array(distance)\n",
    "nptime= np.array(time)\n",
    "npspeed = npdistance/nptime\n",
    "# print(npspeed)\n",
    "npspeed"
   ]
  },
  {
   "cell_type": "code",
   "execution_count": 22,
   "metadata": {},
   "outputs": [
    {
     "data": {
      "text/plain": [
       "1"
      ]
     },
     "execution_count": 22,
     "metadata": {},
     "output_type": "execute_result"
    }
   ],
   "source": [
    "city = np.array(['nyc','london','delhi','kashi'])\n",
    "city.ndim\n",
    "# city.shape"
   ]
  },
  {
   "cell_type": "code",
   "execution_count": 21,
   "metadata": {},
   "outputs": [
    {
     "data": {
      "text/plain": [
       "(4,)"
      ]
     },
     "execution_count": 21,
     "metadata": {},
     "output_type": "execute_result"
    }
   ],
   "source": [
    "city.shape"
   ]
  },
  {
   "cell_type": "code",
   "execution_count": 24,
   "metadata": {},
   "outputs": [
    {
     "data": {
      "text/plain": [
       "array([22, 31, 51, 64])"
      ]
     },
     "execution_count": 24,
     "metadata": {},
     "output_type": "execute_result"
    }
   ],
   "source": [
    "# basic operations on an array\n",
    "first = [10,20,30,40]\n",
    "second = [12,11,21,24]\n",
    "npfirst = np.array(first)\n",
    "npsecond = np.array(second)\n",
    "npfirst+npsecond\n",
    "# print(npfirst+npsecond)"
   ]
  },
  {
   "cell_type": "code",
   "execution_count": 16,
   "metadata": {},
   "outputs": [
    {
     "name": "stdout",
     "output_type": "stream",
     "text": [
      "[10, 20, 30, 40]\n",
      "[12, 11, 21, 24]\n"
     ]
    }
   ],
   "source": [
    "distance2d = ([10,20,30,40],[12,11,21,24])\n",
    "# distance2d\n",
    "distancefirst = distance2d[0]\n",
    "print(distancefirst)\n",
    "distacesecond = distance2d[1]\n",
    "print(distacesecond)"
   ]
  },
  {
   "cell_type": "code",
   "execution_count": 34,
   "metadata": {},
   "outputs": [
    {
     "data": {
      "text/plain": [
       "array([[ True,  True, False,  True],\n",
       "       [False,  True,  True, False]])"
      ]
     },
     "execution_count": 34,
     "metadata": {},
     "output_type": "execute_result"
    }
   ],
   "source": [
    "import numpy as np\n",
    "test_scores = np.array([[83,71,57,63],[54,68,81,45]])\n",
    "pass_score = test_scores > 60\n",
    "pass_score"
   ]
  },
  {
   "cell_type": "code",
   "execution_count": 36,
   "metadata": {},
   "outputs": [
    {
     "name": "stdout",
     "output_type": "stream",
     "text": [
      "[83 71 63 68 81]\n"
     ]
    }
   ],
   "source": [
    "test_scores[pass_score]\n",
    "# print(test_scores[pass_score])"
   ]
  },
  {
   "cell_type": "code",
   "execution_count": 37,
   "metadata": {},
   "outputs": [
    {
     "data": {
      "text/plain": [
       "True"
      ]
     },
     "execution_count": 37,
     "metadata": {},
     "output_type": "execute_result"
    }
   ],
   "source": [
    "city = np.array(['nyc','london','delhi','kashi'])\n",
    "newcity = city\n",
    "newcity is city"
   ]
  },
  {
   "cell_type": "code",
   "execution_count": 38,
   "metadata": {},
   "outputs": [
    {
     "data": {
      "text/plain": [
       "4"
      ]
     },
     "execution_count": 38,
     "metadata": {},
     "output_type": "execute_result"
    }
   ],
   "source": [
    "len(newcity)"
   ]
  },
  {
   "cell_type": "code",
   "execution_count": 39,
   "metadata": {},
   "outputs": [
    {
     "data": {
      "text/plain": [
       "array(['nyc', 'london', 'delhi', 'kashi'], dtype='<U6')"
      ]
     },
     "execution_count": 39,
     "metadata": {},
     "output_type": "execute_result"
    }
   ],
   "source": [
    "newcity.view()"
   ]
  },
  {
   "cell_type": "code",
   "execution_count": 45,
   "metadata": {},
   "outputs": [
    {
     "data": {
      "text/plain": [
       "array([83, 71, 57, 63, 54, 68, 81, 45, 45, 89, 78, 33])"
      ]
     },
     "execution_count": 45,
     "metadata": {},
     "output_type": "execute_result"
    }
   ],
   "source": [
    "# shape manipulation in arrays in python\n",
    "#  ravel ,  split , flatten , resize , reshape , stack\n",
    "\n",
    "test_scores = np.array([[83,71,57,63],[54,68,81,45],[45,89,78,33]])\n",
    "newscores = test_scores.ravel()\n",
    "newscores\n",
    "\n"
   ]
  },
  {
   "cell_type": "code",
   "execution_count": 46,
   "metadata": {},
   "outputs": [
    {
     "data": {
      "text/plain": [
       "1"
      ]
     },
     "execution_count": 46,
     "metadata": {},
     "output_type": "execute_result"
    }
   ],
   "source": [
    "newscores.ndim"
   ]
  },
  {
   "cell_type": "code",
   "execution_count": 47,
   "metadata": {},
   "outputs": [
    {
     "data": {
      "text/plain": [
       "(12,)"
      ]
     },
     "execution_count": 47,
     "metadata": {},
     "output_type": "execute_result"
    }
   ],
   "source": [
    "newscores.shape"
   ]
  },
  {
   "cell_type": "code",
   "execution_count": 48,
   "metadata": {},
   "outputs": [
    {
     "data": {
      "text/plain": [
       "array([83, 71, 57, 63, 54, 68, 81, 45, 45, 89, 78, 33])"
      ]
     },
     "execution_count": 48,
     "metadata": {},
     "output_type": "execute_result"
    }
   ],
   "source": [
    "flattenscores = test_scores.flatten()\n",
    "flattenscores\n"
   ]
  },
  {
   "cell_type": "code",
   "execution_count": 49,
   "metadata": {},
   "outputs": [
    {
     "data": {
      "text/plain": [
       "array([[83, 71, 57],\n",
       "       [63, 54, 68],\n",
       "       [81, 45, 45],\n",
       "       [89, 78, 33]])"
      ]
     },
     "execution_count": 49,
     "metadata": {},
     "output_type": "execute_result"
    }
   ],
   "source": [
    "reshapescores = test_scores.reshape(4,3)\n",
    "reshapescores"
   ]
  },
  {
   "cell_type": "code",
   "execution_count": 56,
   "metadata": {},
   "outputs": [
    {
     "data": {
      "text/plain": [
       "[array([83, 71, 57, 63]), array([54, 68, 81, 45]), array([45, 89, 78, 33])]"
      ]
     },
     "execution_count": 56,
     "metadata": {},
     "output_type": "execute_result"
    }
   ],
   "source": [
    "np.hsplit(flattenscores,3)"
   ]
  },
  {
   "cell_type": "code",
   "execution_count": null,
   "metadata": {},
   "outputs": [],
   "source": [
    "stackarray = np.hstack()"
   ]
  },
  {
   "cell_type": "code",
   "execution_count": null,
   "metadata": {},
   "outputs": [],
   "source": []
  }
 ],
 "metadata": {
  "kernelspec": {
   "display_name": "Python 3",
   "language": "python",
   "name": "python3"
  },
  "language_info": {
   "codemirror_mode": {
    "name": "ipython",
    "version": 3
   },
   "file_extension": ".py",
   "mimetype": "text/x-python",
   "name": "python",
   "nbconvert_exporter": "python",
   "pygments_lexer": "ipython3",
   "version": "3.10.12"
  }
 },
 "nbformat": 4,
 "nbformat_minor": 2
}
